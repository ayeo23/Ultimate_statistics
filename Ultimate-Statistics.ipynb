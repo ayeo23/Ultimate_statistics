{
 "cells": [
  {
   "cell_type": "markdown",
   "metadata": {},
   "source": [
    "# Touches on the disc\n",
    "\n",
    "Ultimate is a game of possession, similar to American football or European soccer. Similar to the latter, all players usually touch the disc while their team moves it around the field. And, similar to both sports, players tend to have skewed statistics on their usage percentage -- some players are high volume and others low.\n",
    "\n",
    "Additionally, in the mixed division of the sport their is an asymmetry on the field. One gender will have 4 players and the other gender will have 3 (all on the same team, and the other team mirrors).\n",
    "\n",
    "If both genders were on the field symmetrically, one would expect the usage percentage to be split between them (1:1 ratio) with all other factors being equal. Alternatively, if all positions were equivalent then one would expect the usage percent to be split according to a 4:3 ratio. Factoring in asymmetric positions, we turn to numerical simulations to find the expected usage ratios."
   ]
  },
  {
   "cell_type": "code",
   "execution_count": 1,
   "metadata": {},
   "outputs": [],
   "source": [
    "# First import a bunch of libraries\n",
    "import numpy as np\n",
    "import numpy.random as rand\n",
    "import matplotlib.pyplot\n",
    "%matplotlib inline"
   ]
  },
  {
   "cell_type": "markdown",
   "metadata": {},
   "source": [
    "## Player object\n",
    "\n",
    "Create a player object, to which we can assign it an ID number (0-6 for each player), gender, position, and a passing function. The passing function is an arbitrary function that takes in a gender, position, and team information and determines how the player will tend to throw to their teammates.\n",
    "\n",
    "This player object+passing function scheme can work with any gender/position configuration. For instance on an open or womens team, the gender won't influence the passing ratio at all. Conversely, by letting the passing function be completely general, then one could design passing functions to test for systemic trends with a parametric model (this would be well beyond the scope of this notebook :-) )."
   ]
  },
  {
   "cell_type": "code",
   "execution_count": 2,
   "metadata": {},
   "outputs": [],
   "source": [
    "class Player(object):\n",
    "    def __init__(self, ID, gender, position, passing_function):\n",
    "        \"\"\"Constructor used to create a player.\"\"\"\n",
    "        self.ID               = ID\n",
    "        self.gender           = gender\n",
    "        self.position         = position\n",
    "        self.passing_function = passing_function\n",
    "        if position not in [\"h\", \"c\"]:\n",
    "            raise Exception(\"Currently only 'h' and 'c' positions supported.\")\n",
    "\n",
    "    def __str__(self):\n",
    "        \"\"\"Diagnostic for printing.\"\"\"\n",
    "        return \"Player ID %d:\\n\\tGen: %s\\n\\tPos: %s\\n\\tPassing function: %s\"%(self.ID,self.gender,self.position,self.passing_function.__name__)\n",
    "        \n",
    "    def make_pass(self, the_team):\n",
    "        \"\"\"A wrapper to the passing function, that takes in the team.\n",
    "        Returns the ID number of a teammate that they have passed to.\"\"\"\n",
    "        return self.passing_function(self.ID, self.gender, self.position, the_team)"
   ]
  },
  {
   "cell_type": "code",
   "execution_count": 3,
   "metadata": {},
   "outputs": [
    {
     "name": "stdout",
     "output_type": "stream",
     "text": [
      "Player ID 1:\n",
      "\tGen: m\n",
      "\tPos: h\n",
      "\tPassing function: fake_passing_function\n",
      "Pass result:  0\n"
     ]
    }
   ],
   "source": [
    "#Test that the player object is working\n",
    "def fake_passing_function(ID, gender, position, the_team, *args):\n",
    "    \"\"\"Always pass to player 0.\"\"\"\n",
    "    return 0\n",
    "\n",
    "Player1 = Player(1, \"m\", \"h\", fake_passing_function)\n",
    "print str(Player1)\n",
    "print \"Pass result: \",Player1.make_pass(None)"
   ]
  },
  {
   "cell_type": "markdown",
   "metadata": {},
   "source": [
    "## Team object\n",
    "\n",
    "The team object is simple: it is a collection of players. This collection is used to run individual players' passing functions. It takes in an ordered list of genders, an ordered list of positions, and an ordered list of passing functions."
   ]
  },
  {
   "cell_type": "code",
   "execution_count": 4,
   "metadata": {},
   "outputs": [],
   "source": [
    "class Team(object):\n",
    "    def __init__(self, gender_list, position_list, pf_list):\n",
    "        \"\"\"Constructor for the team.\"\"\"\n",
    "        if len(gender_list) != len(position_list) != len(pf_list):\n",
    "            raise Exception(\"Must supply all information for all players.\")\n",
    "        N_players = len(gender_list)\n",
    "        self.N_players = N_players\n",
    "        if N_players < 2:\n",
    "            raise Exception(\"Must have at least two players on the team.\")\n",
    "        self.players = [Player(i, gender_list[i], position_list[i], pf_list[i]) for i in range(N_players)]\n",
    "        \n",
    "    def __str__(self):\n",
    "        out = str(self.players[0])\n",
    "        for i in range(1,self.N_players):\n",
    "            out += \"\\n\"+str(self.players[i])\n",
    "        return out"
   ]
  },
  {
   "cell_type": "code",
   "execution_count": 5,
   "metadata": {},
   "outputs": [
    {
     "name": "stdout",
     "output_type": "stream",
     "text": [
      "Player ID 0:\n",
      "\tGen: m\n",
      "\tPos: h\n",
      "\tPassing function: fake_passing_function\n",
      "Player ID 1:\n",
      "\tGen: m\n",
      "\tPos: h\n",
      "\tPassing function: fake_passing_function\n",
      "Player ID 2:\n",
      "\tGen: m\n",
      "\tPos: h\n",
      "\tPassing function: fake_passing_function\n",
      "Player ID 3:\n",
      "\tGen: m\n",
      "\tPos: c\n",
      "\tPassing function: fake_passing_function\n",
      "Player ID 4:\n",
      "\tGen: m\n",
      "\tPos: c\n",
      "\tPassing function: fake_passing_function\n",
      "Player ID 5:\n",
      "\tGen: m\n",
      "\tPos: c\n",
      "\tPassing function: fake_passing_function\n",
      "Player ID 6:\n",
      "\tGen: m\n",
      "\tPos: c\n",
      "\tPassing function: fake_passing_function\n"
     ]
    }
   ],
   "source": [
    "# Test that the team objects work.\n",
    "gens = [\"m\" for i in range(7)]\n",
    "poss = [\"h\",\"h\",\"h\",\"c\",\"c\",\"c\",\"c\"]\n",
    "pfs = [fake_passing_function for i in range(7)]\n",
    "Team1 = Team(gens, poss, pfs)\n",
    "print Team1"
   ]
  },
  {
   "cell_type": "markdown",
   "metadata": {},
   "source": [
    "## Usage object\n",
    "Now we can make a usage object. This is an object that contains a team that has been initialized with a set of players. It simply simulates a lot of throws, recording the information about the player that receives the disc."
   ]
  },
  {
   "cell_type": "code",
   "execution_count": 6,
   "metadata": {},
   "outputs": [],
   "source": [
    "class Usage(object):\n",
    "    def __init__(self, the_team):\n",
    "        self.the_team = the_team\n",
    "        \n",
    "    def simulate(self, N_throws, start_ID=0):\n",
    "        print \"Simulating with %d throws.\"%N_throws\n",
    "        the_team = self.the_team\n",
    "        print \"Posession starting with:\\n%s\"%the_team.players[start_ID]\n",
    "        allIDs  = [0]\n",
    "        allgens = [the_team.players[start_ID].gender]\n",
    "        allposs = [the_team.players[start_ID].position]\n",
    "        current_ID = start_ID\n",
    "        for i in range(N_throws):\n",
    "            current_ID = the_team.players[current_ID].make_pass(the_team)\n",
    "            allIDs.append(current_ID)\n",
    "            allgens.append(the_team.players[current_ID].gender)\n",
    "            allposs.append(the_team.players[current_ID].position)\n",
    "        print \"Simulation complete with %d throws.\"%N_throws\n",
    "        return allIDs, allgens, allposs"
   ]
  },
  {
   "cell_type": "code",
   "execution_count": 7,
   "metadata": {},
   "outputs": [
    {
     "name": "stdout",
     "output_type": "stream",
     "text": [
      "Simulating with 100 throws.\n",
      "Posession starting with:\n",
      "Player ID 0:\n",
      "\tGen: m\n",
      "\tPos: h\n",
      "\tPassing function: fake_passing_function\n",
      "Simulation complete with 100 throws.\n"
     ]
    }
   ],
   "source": [
    "# Test the Usage object\n",
    "Simulation = Usage(Team1)\n",
    "N_throws = 100\n",
    "IDs, gens, poss = Simulation.simulate(N_throws)"
   ]
  },
  {
   "cell_type": "markdown",
   "metadata": {},
   "source": [
    "## Passing functions\n",
    "Now we need to create some passing functions. The most naive passing function will have a player randomly pass to any player besides themselves. Another passing function we could have is one in which a handler (position=\"h\") always passes to a cutter (position=\"c\")."
   ]
  },
  {
   "cell_type": "code",
   "execution_count": 8,
   "metadata": {},
   "outputs": [],
   "source": [
    "def random_passing_function(ID, gender, position, the_team, *args):\n",
    "    \"\"\"Pure random passing function.\"\"\"\n",
    "    N = the_team.N_players\n",
    "    IDs = range(0,ID)+range(ID+1,N)\n",
    "    return rand.choice(IDs)\n",
    "\n",
    "def hc_ch_passing_function(ID, gender, position, the_team, *args):\n",
    "    \"\"\"Handler-cutter cutter-handler passing function.\"\"\"\n",
    "    IDs = []\n",
    "    for player in the_team.players:\n",
    "        if position == \"h\":\n",
    "            if player.position == 'c': IDs.append(player.ID)\n",
    "        else:\n",
    "            if player.position == 'h': IDs.append(player.ID)\n",
    "    return rand.choice(IDs)"
   ]
  },
  {
   "cell_type": "code",
   "execution_count": 9,
   "metadata": {},
   "outputs": [
    {
     "name": "stdout",
     "output_type": "stream",
     "text": [
      "IDs of random passes:\n",
      "\t[5, 1, 5, 2, 6, 1, 2, 6, 1, 1, 6, 2, 6, 6, 2, 1, 3, 2, 3, 1]\n",
      "IDs of handler-cutter pass pairs:\n",
      "\t[6, 4, 3, 6, 6, 5, 6, 6, 4, 6, 5, 3, 4, 4, 6, 3, 3, 4, 4, 6]\n"
     ]
    }
   ],
   "source": [
    "# Test the passing functions\n",
    "receiver_IDs = [random_passing_function(0,'m','h',Team1) for i in range(20)]\n",
    "print \"IDs of random passes:\\n\\t\",receiver_IDs\n",
    "\n",
    "receiver_IDs = [hc_ch_passing_function(0,'m','h',Team1) for i in range(20)]\n",
    "print \"IDs of handler-cutter pass pairs:\\n\\t\",receiver_IDs"
   ]
  },
  {
   "cell_type": "markdown",
   "metadata": {},
   "source": [
    "## Experiment 1 - random team\n",
    "The first experiment will be with a team entirely of players that pass randomly to other players. Let's do this with a 3-4 female-male ratio mixed team with two male and one female handlers, and we will simulate one million throws."
   ]
  },
  {
   "cell_type": "code",
   "execution_count": 10,
   "metadata": {},
   "outputs": [
    {
     "name": "stdout",
     "output_type": "stream",
     "text": [
      "Simulating with 1000000 throws.\n",
      "Posession starting with:\n",
      "Player ID 0:\n",
      "\tGen: m\n",
      "\tPos: h\n",
      "\tPassing function: random_passing_function\n",
      "Simulation complete with 1000000 throws.\n"
     ]
    }
   ],
   "source": [
    "in_gens = [\"m\",\"f\",\"m\",\"f\",\"m\",\"f\",\"m\"]\n",
    "in_poss = [\"h\",\"h\",\"h\",\"c\",\"c\",\"c\",\"c\"]\n",
    "pfs = [random_passing_function for i in range(7)]\n",
    "TeamExp1 = Team(in_gens, in_poss, pfs)\n",
    "SimExp1 = Usage(TeamExp1)\n",
    "N_throws = 1000000\n",
    "IDs, gens, poss = SimExp1.simulate(N_throws)"
   ]
  },
  {
   "cell_type": "code",
   "execution_count": 11,
   "metadata": {},
   "outputs": [
    {
     "name": "stdout",
     "output_type": "stream",
     "text": [
      "Expected Percentages:\n",
      "\t43% f receivers\n",
      "\t57% m receivers\n",
      "Calculated Percentages for Experiment 1:\n",
      "\t42.79% f receivers\n",
      "\t57.21% m receivers\n"
     ]
    }
   ],
   "source": [
    "# Analysis on experiment one. \n",
    "# Basic statistic - the % of a male receiver vs. the % of a female receiver.\n",
    "# We expect a 57% male vs 43% female ratio based on the 4:3 ratio of players.\n",
    "N_possessions = N_throws+1 #One extra for the player starting with the disc.\n",
    "N_male = gens.count(\"m\")\n",
    "N_female = gens.count(\"f\")\n",
    "P_male = float(N_male)/N_possessions*100\n",
    "P_female = float(N_female)/N_possessions*100\n",
    "print \"Expected Percentages:\\n\\t43% f receivers\\n\\t57% m receivers\"\n",
    "print \"Calculated Percentages for Experiment 1:\\n\\t%.2f%% f receivers\\n\\t%.2f%% m receivers\"%(P_female, P_male)"
   ]
  },
  {
   "cell_type": "markdown",
   "metadata": {},
   "source": [
    "## Experiment 2 - basic tactics team with 3:4 female-male ratio\n",
    "The second experiment will be with a team entirely of players that pass randomly to players of the opposite position. So handlers always pass to cutters and cutters always to handlers. Let's do this with a 3-4 female-male ratio mixed team with two male and one female handlers, and we will simulate one million throws."
   ]
  },
  {
   "cell_type": "code",
   "execution_count": 12,
   "metadata": {},
   "outputs": [
    {
     "name": "stdout",
     "output_type": "stream",
     "text": [
      "Simulating with 1000000 throws.\n",
      "Posession starting with:\n",
      "Player ID 0:\n",
      "\tGen: m\n",
      "\tPos: h\n",
      "\tPassing function: hc_ch_passing_function\n",
      "Simulation complete with 1000000 throws.\n"
     ]
    }
   ],
   "source": [
    "in_gens = [\"m\",\"f\",\"m\",\"f\",\"m\",\"f\",\"m\"]\n",
    "in_poss = [\"h\",\"h\",\"h\",\"c\",\"c\",\"c\",\"c\"]\n",
    "pfs = [hc_ch_passing_function for i in range(7)]\n",
    "TeamExp2 = Team(in_gens, in_poss, pfs)\n",
    "SimExp2 = Usage(TeamExp2)\n",
    "N_throws = 1000000\n",
    "IDs, gens, poss = SimExp2.simulate(N_throws)"
   ]
  },
  {
   "cell_type": "code",
   "execution_count": 13,
   "metadata": {},
   "outputs": [
    {
     "name": "stdout",
     "output_type": "stream",
     "text": [
      "Expected Percentages of pure random throws:\n",
      "\t43% f receivers\n",
      "\t57% m receivers\n",
      "Calculated Percentages for Experiment 2:\n",
      "\t41.63% f receivers\n",
      "\t58.37% m receivers\n"
     ]
    }
   ],
   "source": [
    "# Analysis on experiment two. \n",
    "# Basic statistic - the % of a male receiver vs. the % of a female receiver.\n",
    "N_possessions = N_throws+1 #One extra for the player starting with the disc.\n",
    "N_male = gens.count(\"m\")\n",
    "N_female = gens.count(\"f\")\n",
    "P_male = float(N_male)/N_possessions*100\n",
    "P_female = float(N_female)/N_possessions*100\n",
    "print \"Expected Percentages of pure random throws:\\n\\t43% f receivers\\n\\t57% m receivers\"\n",
    "print \"Calculated Percentages for Experiment 2:\\n\\t%.2f%% f receivers\\n\\t%.2f%% m receivers\"%(P_female, P_male)"
   ]
  },
  {
   "cell_type": "markdown",
   "metadata": {},
   "source": [
    "## Experiment 3 - handlers get 2/3 of passes\n",
    "In the third experiment we can try a more complicated scenario in which any player, no matter what their position, will throw to a handler 66% of the time. This is somewhat realistic in a game setting, where tactics might include dump-swing-throw style play. To simulate this we need to construct a new passing function."
   ]
  },
  {
   "cell_type": "code",
   "execution_count": 14,
   "metadata": {},
   "outputs": [],
   "source": [
    "def dst_passing_function(ID, gender, position, the_team, *args):\n",
    "    #DST - stands for dump-swing-throw upfield\n",
    "    hIDs = []\n",
    "    cIDs = []\n",
    "    for player in the_team.players:\n",
    "        if player.position == 'c' and player.ID != ID: cIDs.append(player.ID)\n",
    "        if player.position == 'h' and player.ID != ID: hIDs.append(player.ID)\n",
    "    if rand.rand() < 0.66666:\n",
    "        return rand.choice(hIDs)\n",
    "    else:\n",
    "        return rand.choice(cIDs)"
   ]
  },
  {
   "cell_type": "code",
   "execution_count": 15,
   "metadata": {},
   "outputs": [
    {
     "name": "stdout",
     "output_type": "stream",
     "text": [
      "Simulating with 1000000 throws.\n",
      "Posession starting with:\n",
      "Player ID 0:\n",
      "\tGen: m\n",
      "\tPos: h\n",
      "\tPassing function: dst_passing_function\n",
      "Simulation complete with 1000000 throws.\n"
     ]
    }
   ],
   "source": [
    "in_gens = [\"m\",\"f\",\"m\",\"f\",\"m\",\"f\",\"m\"]\n",
    "in_poss = [\"h\",\"h\",\"h\",\"c\",\"c\",\"c\",\"c\"]\n",
    "pfs = [dst_passing_function for i in range(7)]\n",
    "TeamExp3 = Team(in_gens, in_poss, pfs)\n",
    "SimExp3 = Usage(TeamExp3)\n",
    "N_throws = 1000000\n",
    "IDs, gens, poss = SimExp3.simulate(N_throws)"
   ]
  },
  {
   "cell_type": "code",
   "execution_count": 16,
   "metadata": {},
   "outputs": [
    {
     "name": "stdout",
     "output_type": "stream",
     "text": [
      "Expected Percentages of pure random throws:\n",
      "\t43% f receivers\n",
      "\t57% m receivers\n",
      "Calculated Percentages for Experiment 3:\n",
      "\t38.83% f receivers\n",
      "\t61.17% m receivers\n"
     ]
    }
   ],
   "source": [
    "# Analysis on experiment three. \n",
    "# Basic statistic - the % of a male receiver vs. the % of a female receiver.\n",
    "N_possessions = N_throws+1 #One extra for the player starting with the disc.\n",
    "N_male = gens.count(\"m\")\n",
    "N_female = gens.count(\"f\")\n",
    "P_male = float(N_male)/N_possessions*100\n",
    "P_female = float(N_female)/N_possessions*100\n",
    "print \"Expected Percentages of pure random throws:\\n\\t43% f receivers\\n\\t57% m receivers\"\n",
    "print \"Calculated Percentages for Experiment 3:\\n\\t%.2f%% f receivers\\n\\t%.2f%% m receivers\"%(P_female, P_male)"
   ]
  },
  {
   "cell_type": "markdown",
   "metadata": {},
   "source": [
    "## Experiment 4 - handlers get 9/10 of passes\n",
    "Let's take experiment 3 and take it to a more extreme level and pretend that handlers get 90% of passes. Again we need to construct a new passing function."
   ]
  },
  {
   "cell_type": "code",
   "execution_count": 17,
   "metadata": {},
   "outputs": [],
   "source": [
    "def exp4_passing_function(ID, gender, position, the_team, *args):\n",
    "    hIDs = []\n",
    "    cIDs = []\n",
    "    for player in the_team.players:\n",
    "        if player.position == 'c' and player.ID != ID: cIDs.append(player.ID)\n",
    "        if player.position == 'h' and player.ID != ID: hIDs.append(player.ID)\n",
    "    if rand.rand() < 0.9:\n",
    "        return rand.choice(hIDs)\n",
    "    else:\n",
    "        return rand.choice(cIDs)"
   ]
  },
  {
   "cell_type": "code",
   "execution_count": 18,
   "metadata": {},
   "outputs": [
    {
     "name": "stdout",
     "output_type": "stream",
     "text": [
      "Simulating with 1000000 throws.\n",
      "Posession starting with:\n",
      "Player ID 0:\n",
      "\tGen: m\n",
      "\tPos: h\n",
      "\tPassing function: exp4_passing_function\n",
      "Simulation complete with 1000000 throws.\n"
     ]
    }
   ],
   "source": [
    "in_gens = [\"m\",\"f\",\"m\",\"f\",\"m\",\"f\",\"m\"]\n",
    "in_poss = [\"h\",\"h\",\"h\",\"c\",\"c\",\"c\",\"c\"]\n",
    "pfs = [exp4_passing_function for i in range(7)]\n",
    "TeamExp4 = Team(in_gens, in_poss, pfs)\n",
    "SimExp4 = Usage(TeamExp4)\n",
    "N_throws = 1000000\n",
    "IDs, gens, poss = SimExp4.simulate(N_throws)"
   ]
  },
  {
   "cell_type": "code",
   "execution_count": 19,
   "metadata": {},
   "outputs": [
    {
     "name": "stdout",
     "output_type": "stream",
     "text": [
      "Expected Percentages of pure random throws:\n",
      "\t43% f receivers\n",
      "\t57% m receivers\n",
      "Calculated Percentages for Experiment 4:\n",
      "\t34.98% f receivers\n",
      "\t65.02% m receivers\n"
     ]
    }
   ],
   "source": [
    "# Analysis on experiment four. \n",
    "# Basic statistic - the % of a male receiver vs. the % of a female receiver.\n",
    "N_possessions = N_throws+1 #One extra for the player starting with the disc.\n",
    "N_male = gens.count(\"m\")\n",
    "N_female = gens.count(\"f\")\n",
    "P_male = float(N_male)/N_possessions*100\n",
    "P_female = float(N_female)/N_possessions*100\n",
    "print \"Expected Percentages of pure random throws:\\n\\t43% f receivers\\n\\t57% m receivers\"\n",
    "print \"Calculated Percentages for Experiment 4:\\n\\t%.2f%% f receivers\\n\\t%.2f%% m receivers\"%(P_female, P_male)"
   ]
  },
  {
   "cell_type": "markdown",
   "metadata": {},
   "source": [
    "# Conclusions\n",
    "\n",
    "All conclusions were reached by running simulations with one million throws. Teams were always composed of three handlers and four cutters, with **two male handlers and one female handler**, and the other four players (two female and two male) are cutters.\n",
    "\n",
    "Experiment1: \n",
    "* If throws were purely random and positions were meaningless, female receivers (or, really, the gender with 3 players) would receive 43% of passes, while male receivers (or the gender with 4 players) would receive 57% of passes.\n",
    "\n",
    "Experiment 2:\n",
    "\n",
    "* A assuming two player positions (cutters and handlers) and cutters always threw to handlers and vice versa, females are expected to receive ~42% of passes to ~58% for males. This is a **negligable change from Experiment 1, or a purely random team**.\n",
    "\n",
    "Experiment 3:\n",
    "\n",
    "* Assumming that handlers always received 2/3 of passes, regardless of who the thrower was, females are expected to receive ~39% of passes and males ~61% of passes.\n",
    "\n",
    "Experiment 4:\n",
    "\n",
    "* Assuming an **extreme scenario where handlers always received 90% of passes**, regardless of who the thrower was, females are expected to receive ~35% of passes and males ~65%.\n",
    "\n",
    "In summary, assuming that the majority of teams play 3:4 female-male with two male and one female handlers, it is likely that the results observed in the ultiworld article are a measurement of a throwing bias. That is, in the context of the four experiments shown here, the article likely did observe a trend where players tended to not throw to female players.\n",
    "\n",
    "Alternative explainations that would involve no throwing bias might include:\n",
    "* Teams ran lots of all male handler lines, possibly suggesting intrinsic, tactical reasons to play males at handler positions in mixed games (possible, but unlikely).\n",
    "* The players observed in the article have vast skill differences between genders (again, possible, but unlikely given that this is nationals).\n",
    "* The plays or strategies that teams ran under(over) utilized the female(male) players, meaning there is a 'strategic bias' rather than a throwing bias."
   ]
  },
  {
   "cell_type": "code",
   "execution_count": null,
   "metadata": {},
   "outputs": [],
   "source": []
  }
 ],
 "metadata": {
  "kernelspec": {
   "display_name": "Python 2",
   "language": "python",
   "name": "python2"
  },
  "language_info": {
   "codemirror_mode": {
    "name": "ipython",
    "version": 2
   },
   "file_extension": ".py",
   "mimetype": "text/x-python",
   "name": "python",
   "nbconvert_exporter": "python",
   "pygments_lexer": "ipython2",
   "version": "2.7.13"
  }
 },
 "nbformat": 4,
 "nbformat_minor": 2
}
