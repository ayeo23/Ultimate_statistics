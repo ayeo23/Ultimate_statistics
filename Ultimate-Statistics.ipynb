{
 "cells": [
  {
   "cell_type": "markdown",
   "metadata": {},
   "source": [
    "# Touches on the disc\n",
    "\n",
    "Ultimate is a game of possession, similar to American football or European soccer. Similar to the latter, all players usually touch the disc while their team moves it around the field. And, similar to both sports, players tend to have skewed statistics on their usage percentage -- some players are high volume and others low.\n",
    "\n",
    "Additionally, in the mixed division of the sport their is an asymmetry on the field. One gender will have 4 players and the other gender will have 3 (all on the same team, and the other team mirrors).\n",
    "\n",
    "If both genders were on the field symmetrically, one would expect the usage percentage to be split between them (1:1 ratio) with all other factors being equal. Alternatively, if all positions were equivalent then one would expect the usage percent to be split according to a 4:3 ratio. Factoring in asymmetric positions, we turn to numerical simulations to find the expected usage ratios."
   ]
  },
  {
   "cell_type": "code",
   "execution_count": 1,
   "metadata": {},
   "outputs": [],
   "source": [
    "# First import a bunch of libraries\n",
    "import numpy as np\n",
    "import numpy.random as rand\n",
    "import matplotlib.pyplot\n",
    "%matplotlib inline"
   ]
  },
  {
   "cell_type": "markdown",
   "metadata": {},
   "source": [
    "## Player object\n",
    "\n",
    "Create a player object, to which we can assign it an ID number (0-6 for each player), gender, position, and a passing function. The passing function is an arbitrary function that takes in a gender, position, and team information and determines how the player will tend to throw to their teammates.\n",
    "\n",
    "This player object+passing function scheme can work with any gender/position configuration. For instance on an open or womens team, the gender won't influence the passing ratio at all. Conversely, by letting the passing function be completely general, then one could design passing functions to test for systemic trends with a parametric model (this would be well beyond the scope of this notebook :-) )."
   ]
  },
  {
   "cell_type": "code",
   "execution_count": 9,
   "metadata": {},
   "outputs": [],
   "source": [
    "class Player(object):\n",
    "    def __init__(self, ID, gender, position, passing_function):\n",
    "        \"\"\"Constructor used to create a player.\"\"\"\n",
    "        self.ID               = ID\n",
    "        self.gender           = gender\n",
    "        self.position         = position\n",
    "        self.passing_function = passing_function\n",
    "\n",
    "    def __str__(self):\n",
    "        \"\"\"Diagnostic for printing.\"\"\"\n",
    "        return \"Player ID %d:\\n\\tGen: %s\\n\\tPos: %s\\n\\tPassing function: %s\"%(self.ID,self.gender,self.position,self.passing_function.__name__)\n",
    "        \n",
    "    def make_pass(self, the_team):\n",
    "        \"\"\"A wrapper to the passing function, that takes in the team.\n",
    "        Returns the ID number of a teammate that they have passed to.\"\"\"\n",
    "        return self.passing_function(self.ID, self.gender, self.position, the_team)"
   ]
  },
  {
   "cell_type": "code",
   "execution_count": 16,
   "metadata": {},
   "outputs": [
    {
     "name": "stdout",
     "output_type": "stream",
     "text": [
      "Player ID 1:\n",
      "\tGen: M\n",
      "\tPos: H\n",
      "\tPassing function: fake_passing_function\n",
      "Pass result:  0\n"
     ]
    }
   ],
   "source": [
    "#Test that the player object is working\n",
    "def fake_passing_function(ID, gender, position, the_team, *args):\n",
    "    \"\"\"Always pass to player 0.\"\"\"\n",
    "    return 0\n",
    "\n",
    "Player1 = Player(1, \"M\", \"H\", fake_passing_function)\n",
    "print str(Player1)\n",
    "print \"Pass result: \",Player1.make_pass(None)"
   ]
  },
  {
   "cell_type": "markdown",
   "metadata": {},
   "source": [
    "## Team object\n",
    "\n",
    "The team object is simple: it is a collection of players. This collection is used to run individual players' passing functions. It takes in an ordered list of genders, an ordered list of positions, and an ordered list of passing functions."
   ]
  },
  {
   "cell_type": "code",
   "execution_count": 22,
   "metadata": {},
   "outputs": [],
   "source": [
    "class Team(object):\n",
    "    def __init__(self, gender_list, position_list, pf_list):\n",
    "        \"\"\"Constructor for the team.\"\"\"\n",
    "        if len(gender_list) != len(position_list) != len(pf_list):\n",
    "            raise Exception(\"Must supply all information for all players.\")\n",
    "        N_players = len(gender_list)\n",
    "        self.N_players = N_players\n",
    "        self.players = [Player(i, gender_list[i], position_list[i], pf_list[i]) for i in range(N_players)]\n",
    "        \n",
    "    def __str__(self):\n",
    "        for i in range(self.N_players):\n",
    "            print self.players[i]"
   ]
  },
  {
   "cell_type": "code",
   "execution_count": 23,
   "metadata": {},
   "outputs": [
    {
     "name": "stdout",
     "output_type": "stream",
     "text": [
      "Player ID 0:\n",
      "\tGen: 0\n",
      "\tPos: h\n",
      "\tPassing function: fake_passing_function\n",
      "Player ID 1:\n",
      "\tGen: 1\n",
      "\tPos: h\n",
      "\tPassing function: fake_passing_function\n",
      "Player ID 2:\n",
      "\tGen: 2\n",
      "\tPos: h\n",
      "\tPassing function: fake_passing_function\n",
      "Player ID 3:\n",
      "\tGen: 3\n",
      "\tPos: h\n",
      "\tPassing function: fake_passing_function\n",
      "Player ID 4:\n",
      "\tGen: 4\n",
      "\tPos: h\n",
      "\tPassing function: fake_passing_function\n",
      "Player ID 5:\n",
      "\tGen: 5\n",
      "\tPos: h\n",
      "\tPassing function: fake_passing_function\n",
      "Player ID 6:\n",
      "\tGen: 6\n",
      "\tPos: h\n",
      "\tPassing function: fake_passing_function\n"
     ]
    },
    {
     "ename": "TypeError",
     "evalue": "__str__ returned non-string (type NoneType)",
     "output_type": "error",
     "traceback": [
      "\u001b[0;31m---------------------------------------------------------------------------\u001b[0m",
      "\u001b[0;31mTypeError\u001b[0m                                 Traceback (most recent call last)",
      "\u001b[0;32m<ipython-input-23-d360164b2939>\u001b[0m in \u001b[0;36m<module>\u001b[0;34m()\u001b[0m\n\u001b[1;32m      4\u001b[0m \u001b[0mpfs\u001b[0m \u001b[0;34m=\u001b[0m \u001b[0;34m[\u001b[0m\u001b[0mfake_passing_function\u001b[0m \u001b[0;32mfor\u001b[0m \u001b[0mi\u001b[0m \u001b[0;32min\u001b[0m \u001b[0mrange\u001b[0m\u001b[0;34m(\u001b[0m\u001b[0;36m7\u001b[0m\u001b[0;34m)\u001b[0m\u001b[0;34m]\u001b[0m\u001b[0;34m\u001b[0m\u001b[0m\n\u001b[1;32m      5\u001b[0m \u001b[0mTeam1\u001b[0m \u001b[0;34m=\u001b[0m \u001b[0mTeam\u001b[0m\u001b[0;34m(\u001b[0m\u001b[0mgens\u001b[0m\u001b[0;34m,\u001b[0m \u001b[0mposs\u001b[0m\u001b[0;34m,\u001b[0m \u001b[0mpfs\u001b[0m\u001b[0;34m)\u001b[0m\u001b[0;34m\u001b[0m\u001b[0m\n\u001b[0;32m----> 6\u001b[0;31m \u001b[0;32mprint\u001b[0m \u001b[0mTeam1\u001b[0m\u001b[0;34m\u001b[0m\u001b[0m\n\u001b[0m",
      "\u001b[0;31mTypeError\u001b[0m: __str__ returned non-string (type NoneType)"
     ]
    }
   ],
   "source": [
    "# Test that the team objects work.\n",
    "gens = np.arange(7)\n",
    "poss = [\"h\",\"h\",\"h\",\"h\",\"h\",\"h\",\"h\"]\n",
    "pfs = [fake_passing_function for i in range(7)]\n",
    "Team1 = Team(gens, poss, pfs)\n",
    "print Team1"
   ]
  },
  {
   "cell_type": "code",
   "execution_count": null,
   "metadata": {},
   "outputs": [],
   "source": []
  }
 ],
 "metadata": {
  "kernelspec": {
   "display_name": "Python 2",
   "language": "python",
   "name": "python2"
  },
  "language_info": {
   "codemirror_mode": {
    "name": "ipython",
    "version": 2
   },
   "file_extension": ".py",
   "mimetype": "text/x-python",
   "name": "python",
   "nbconvert_exporter": "python",
   "pygments_lexer": "ipython2",
   "version": "2.7.13"
  }
 },
 "nbformat": 4,
 "nbformat_minor": 2
}
