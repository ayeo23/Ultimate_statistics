{
 "cells": [
  {
   "cell_type": "markdown",
   "metadata": {},
   "source": [
    "# Touches on the disc\n",
    "\n",
    "Ultimate is a game of possession, similar to American football or European soccer. Similar to the latter, all players usually touch the disc while their team moves it around the field. And, similar to both sports, players tend to have skewed statistics on their usage percentage -- some players are high volume and others low.\n",
    "\n",
    "Additionally, in the mixed division of the sport their is an asymmetry on the field. One gender will have 4 players and the other gender will have 3 (all on the same team, and the other team mirrors).\n",
    "\n",
    "If both genders were on the field symmetrically, one would expect the usage percentage to be split between them (1:1 ratio) with all other factors being equal. Alternatively, if all positions were equivalent then one would expect the usage percent to be split according to a 4:3 ratio. Factoring in asymmetric positions, we turn to numerical simulations to find the expected usage ratios."
   ]
  },
  {
   "cell_type": "code",
   "execution_count": 1,
   "metadata": {},
   "outputs": [],
   "source": [
    "# First import a bunch of libraries\n",
    "import numpy as np\n",
    "import numpy.random as rand\n",
    "import matplotlib.pyplot\n",
    "%matplotlib inline"
   ]
  },
  {
   "cell_type": "markdown",
   "metadata": {},
   "source": [
    "## Player object\n",
    "\n",
    "Create a player object, to which we can assign it an ID number (0-6 for each player), gender, position, and a passing function. The passing function is an arbitrary function that takes in a gender, position, and team information and determines how the player will tend to throw to their teammates.\n",
    "\n",
    "This player object+passing function scheme can work with any gender/position configuration. For instance on an open or womens team, the gender won't influence the passing ratio at all. Conversely, by letting the passing function be completely general, then one could design passing functions to test for systemic trends with a parametric model (this would be well beyond the scope of this notebook :-) )."
   ]
  },
  {
   "cell_type": "code",
   "execution_count": 14,
   "metadata": {},
   "outputs": [],
   "source": [
    "class Player(object):\n",
    "    def __init__(self, ID, gender, position, passing_function):\n",
    "        \"\"\"Constructor used to create a player.\"\"\"\n",
    "        self.ID               = ID\n",
    "        self.gender           = gender\n",
    "        self.position         = position\n",
    "        self.passing_function = passing_function\n",
    "\n",
    "    def __str__(self):\n",
    "        \"\"\"Diagnostic for printing.\"\"\"\n",
    "        return \"Player ID %d:\\n\\tGen: %s\\n\\tPos: %s\\n\\tPassing function: %s\"%(self.ID,self.gender,self.position,self.passing_function.__name__)\n",
    "        \n",
    "    def make_pass(self, the_team):\n",
    "        \"\"\"A wrapper to the passing function, that takes in the team.\n",
    "        Returns the ID number of a teammate that they have passed to.\"\"\"\n",
    "        return self.passing_function(self.ID, self.gender, self.position, the_team)"
   ]
  },
  {
   "cell_type": "code",
   "execution_count": 15,
   "metadata": {},
   "outputs": [
    {
     "name": "stdout",
     "output_type": "stream",
     "text": [
      "Player ID 1:\n",
      "\tGen: M\n",
      "\tPos: H\n",
      "\tPassing function: fake_passing_function\n",
      "Pass result:  0\n"
     ]
    }
   ],
   "source": [
    "#Test that the player object is working\n",
    "def fake_passing_function(ID, gender, position, the_team, *args):\n",
    "    \"\"\"Always pass to player 0.\"\"\"\n",
    "    return 0\n",
    "\n",
    "Player1 = Player(1, \"M\", \"H\", fake_passing_function)\n",
    "print str(Player1)\n",
    "print \"Pass result: \",Player1.make_pass(None)"
   ]
  },
  {
   "cell_type": "markdown",
   "metadata": {},
   "source": [
    "## Team object\n",
    "\n",
    "The team object is simple: it is a collection of players. This collection is used to run individual players' passing functions. It takes in an ordered list of genders, an ordered list of positions, and an ordered list of passing functions."
   ]
  },
  {
   "cell_type": "code",
   "execution_count": 18,
   "metadata": {},
   "outputs": [],
   "source": [
    "class Team(object):\n",
    "    def __init__(self, gender_list, position_list, pf_list):\n",
    "        \"\"\"Constructor for the team.\"\"\"\n",
    "        if len(gender_list) != len(position_list) != len(pf_list):\n",
    "            raise Exception(\"Must supply all information for all players.\")\n",
    "        N_players = len(gender_list)\n",
    "        self.N_players = N_players\n",
    "        self.players = [Player(i, gender_list[i], position_list[i], pf_list[i]) for i in range(N_players)]\n",
    "        \n",
    "    def __str__(self):\n",
    "        out = str(self.players[0])\n",
    "        for i in range(1,self.N_players):\n",
    "            out += \"\\n\"+str(self.players[i])\n",
    "        return out"
   ]
  },
  {
   "cell_type": "code",
   "execution_count": 21,
   "metadata": {},
   "outputs": [
    {
     "name": "stdout",
     "output_type": "stream",
     "text": [
      "Player ID 0:\n",
      "\tGen: m\n",
      "\tPos: h\n",
      "\tPassing function: fake_passing_function\n",
      "Player ID 1:\n",
      "\tGen: m\n",
      "\tPos: h\n",
      "\tPassing function: fake_passing_function\n",
      "Player ID 2:\n",
      "\tGen: m\n",
      "\tPos: h\n",
      "\tPassing function: fake_passing_function\n",
      "Player ID 3:\n",
      "\tGen: m\n",
      "\tPos: h\n",
      "\tPassing function: fake_passing_function\n",
      "Player ID 4:\n",
      "\tGen: m\n",
      "\tPos: h\n",
      "\tPassing function: fake_passing_function\n",
      "Player ID 5:\n",
      "\tGen: m\n",
      "\tPos: h\n",
      "\tPassing function: fake_passing_function\n",
      "Player ID 6:\n",
      "\tGen: m\n",
      "\tPos: h\n",
      "\tPassing function: fake_passing_function\n"
     ]
    }
   ],
   "source": [
    "# Test that the team objects work.\n",
    "gens = [\"m\" for i in range(7)]\n",
    "poss = [\"h\" for i in range(7)]\n",
    "pfs = [fake_passing_function for i in range(7)]\n",
    "Team1 = Team(gens, poss, pfs)\n",
    "print Team1"
   ]
  },
  {
   "cell_type": "markdown",
   "metadata": {},
   "source": [
    "## Passing functions\n",
    "Now we need to create some passing functions. The most naive passing function will have a player randomly pass to any player besides themselves."
   ]
  },
  {
   "cell_type": "code",
   "execution_count": null,
   "metadata": {},
   "outputs": [],
   "source": [
    "def naive_passing_function(ID, gender, position, the_team, *args):\n",
    "    N = the_team.N_players\n",
    "    "
   ]
  }
 ],
 "metadata": {
  "kernelspec": {
   "display_name": "Python 2",
   "language": "python",
   "name": "python2"
  },
  "language_info": {
   "codemirror_mode": {
    "name": "ipython",
    "version": 2
   },
   "file_extension": ".py",
   "mimetype": "text/x-python",
   "name": "python",
   "nbconvert_exporter": "python",
   "pygments_lexer": "ipython2",
   "version": "2.7.13"
  }
 },
 "nbformat": 4,
 "nbformat_minor": 2
}
